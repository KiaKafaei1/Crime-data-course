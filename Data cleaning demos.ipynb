{
 "cells": [
  {
   "cell_type": "markdown",
   "metadata": {},
   "source": [
    "# Data cleaning for Demographics dataset"
   ]
  },
  {
   "cell_type": "code",
   "execution_count": 1,
   "metadata": {},
   "outputs": [],
   "source": [
    "import pandas as pd\n",
    "import os\n",
    "import numpy as np"
   ]
  },
  {
   "cell_type": "code",
   "execution_count": 2,
   "metadata": {},
   "outputs": [],
   "source": [
    "filename = \"test.xlsx\"\n",
    "data = pd.read_excel(filename)"
   ]
  },
  {
   "cell_type": "code",
   "execution_count": 3,
   "metadata": {},
   "outputs": [],
   "source": [
    "data_new = data[['GeogName','GeoID','Borough','Hsp1E','NHspE','WtNHE','BlNHE','AIANNHE','AsnNHE','NHPINHE','OthNHE','Rc2plNHE']]"
   ]
  },
  {
   "cell_type": "markdown",
   "metadata": {},
   "source": [
    "Renaming the coloumns "
   ]
  },
  {
   "cell_type": "code",
   "execution_count": 4,
   "metadata": {},
   "outputs": [
    {
     "name": "stderr",
     "output_type": "stream",
     "text": [
      "C:\\Users\\kia08\\Anaconda3\\lib\\site-packages\\pandas\\core\\frame.py:3781: SettingWithCopyWarning: \n",
      "A value is trying to be set on a copy of a slice from a DataFrame\n",
      "\n",
      "See the caveats in the documentation: http://pandas.pydata.org/pandas-docs/stable/indexing.html#indexing-view-versus-copy\n",
      "  return super(DataFrame, self).rename(**kwargs)\n"
     ]
    }
   ],
   "source": [
    "data_new.rename(columns={'Hsp1E':'Hispanics',\n",
    "                          'NHspE':'Not Hispanic',\n",
    "                          'WtNHE':'White alone',\n",
    "                         'BlNHE':'Black',\n",
    "                         'AIANNHE':'American Indian',\n",
    "                         'AsnNHE':'Asian',\n",
    "                         'OthNHE':'Some other race',\n",
    "                         'Rc2plNHE':'Two or more races'}, \n",
    "                 inplace=True)"
   ]
  },
  {
   "cell_type": "markdown",
   "metadata": {},
   "source": [
    "Dropping the 'Non Hispanic' category"
   ]
  },
  {
   "cell_type": "code",
   "execution_count": 5,
   "metadata": {},
   "outputs": [],
   "source": [
    "data_new1 = data_new.drop(['Not Hispanic'],axis=1)\n",
    "\n"
   ]
  },
  {
   "cell_type": "markdown",
   "metadata": {},
   "source": [
    "Sum of all races"
   ]
  },
  {
   "cell_type": "code",
   "execution_count": 6,
   "metadata": {},
   "outputs": [],
   "source": [
    "list_sum = data_new1.sum(axis = 1, skipna = True)"
   ]
  },
  {
   "cell_type": "markdown",
   "metadata": {},
   "source": [
    "Creating an 'Unknown' category to align with the shooting dataset"
   ]
  },
  {
   "cell_type": "code",
   "execution_count": 7,
   "metadata": {},
   "outputs": [],
   "source": [
    "col_list= list(data_new1)\n",
    "col_list.remove('Hispanics')\n",
    "col_list.remove('White alone')\n",
    "col_list.remove('Black')\n",
    "col_list.remove('American Indian')\n",
    "col_list.remove('Asian')"
   ]
  },
  {
   "cell_type": "code",
   "execution_count": 8,
   "metadata": {},
   "outputs": [],
   "source": [
    "data_new1['Unknown'] = data_new1[col_list].sum(axis=1)\n",
    "percentage_series= data_new1['GeogName']\n",
    "percentage_demo = percentage_series.to_frame()"
   ]
  },
  {
   "cell_type": "code",
   "execution_count": 9,
   "metadata": {},
   "outputs": [],
   "source": [
    "data_new2 = data_new1.drop(['NHPINHE','Some other race','Two or more races'],axis=1)\n",
    "#data_new2"
   ]
  },
  {
   "cell_type": "markdown",
   "metadata": {},
   "source": [
    "Creating a table with percentage dataset"
   ]
  },
  {
   "cell_type": "code",
   "execution_count": 10,
   "metadata": {},
   "outputs": [],
   "source": [
    "percentage_demo['GeoID']= data_new1['GeoID']\n",
    "percentage_demo['Borough'] = data_new1['Borough']\n",
    "\n",
    "percentage_demo['White %']= data_new1['White alone']/list_sum*100\n",
    "percentage_demo['Hispanics %'] = data_new1['Hispanics']/list_sum*100\n",
    "percentage_demo['Black %'] = data_new1['Black']/list_sum*100\n",
    "percentage_demo['American Indian %'] = data_new1['American Indian']/list_sum*100\n",
    "percentage_demo['Asian %'] = data_new1['Asian']/list_sum*100\n",
    "percentage_demo['Unknown %'] = data_new1['Unknown']/list_sum*100\n",
    "#percentage_demo.rename(columns = {0:'White %'},inplace=True)"
   ]
  },
  {
   "cell_type": "code",
   "execution_count": 11,
   "metadata": {},
   "outputs": [],
   "source": [
    "percentage_demo.to_csv('percentage_demos.csv',index=False)"
   ]
  },
  {
   "cell_type": "code",
   "execution_count": 12,
   "metadata": {},
   "outputs": [],
   "source": [
    "percentage_demo.head()\n",
    "df = data_new2\n",
    "#df"
   ]
  },
  {
   "cell_type": "code",
   "execution_count": 13,
   "metadata": {},
   "outputs": [
    {
     "data": {
      "text/html": [
       "<div>\n",
       "<style scoped>\n",
       "    .dataframe tbody tr th:only-of-type {\n",
       "        vertical-align: middle;\n",
       "    }\n",
       "\n",
       "    .dataframe tbody tr th {\n",
       "        vertical-align: top;\n",
       "    }\n",
       "\n",
       "    .dataframe thead th {\n",
       "        text-align: right;\n",
       "    }\n",
       "</style>\n",
       "<table border=\"1\" class=\"dataframe\">\n",
       "  <thead>\n",
       "    <tr style=\"text-align: right;\">\n",
       "      <th></th>\n",
       "      <th>Precinct</th>\n",
       "      <th>NTAName</th>\n",
       "    </tr>\n",
       "  </thead>\n",
       "  <tbody>\n",
       "    <tr>\n",
       "      <th>0</th>\n",
       "      <td>1</td>\n",
       "      <td>Battery Park City-Lower Manhattan</td>\n",
       "    </tr>\n",
       "    <tr>\n",
       "      <th>1</th>\n",
       "      <td>1</td>\n",
       "      <td>Chinatown</td>\n",
       "    </tr>\n",
       "    <tr>\n",
       "      <th>2</th>\n",
       "      <td>1</td>\n",
       "      <td>SoHo-TriBeCa-Civic Center-Little Italy</td>\n",
       "    </tr>\n",
       "    <tr>\n",
       "      <th>3</th>\n",
       "      <td>1</td>\n",
       "      <td>West Village</td>\n",
       "    </tr>\n",
       "    <tr>\n",
       "      <th>4</th>\n",
       "      <td>1</td>\n",
       "      <td>park-cemetery-etc-Manhattan</td>\n",
       "    </tr>\n",
       "  </tbody>\n",
       "</table>\n",
       "</div>"
      ],
      "text/plain": [
       "   Precinct                                 NTAName\n",
       "0         1       Battery Park City-Lower Manhattan\n",
       "1         1                               Chinatown\n",
       "2         1  SoHo-TriBeCa-Civic Center-Little Italy\n",
       "3         1                            West Village\n",
       "4         1             park-cemetery-etc-Manhattan"
      ]
     },
     "execution_count": 13,
     "metadata": {},
     "output_type": "execute_result"
    }
   ],
   "source": [
    "pr_to_NTA = pd.read_csv('pr_to_NTA.csv')\n",
    "pr_to_NTA.head()"
   ]
  },
  {
   "cell_type": "markdown",
   "metadata": {},
   "source": [
    "Initialization of variables"
   ]
  },
  {
   "cell_type": "code",
   "execution_count": 14,
   "metadata": {},
   "outputs": [],
   "source": [
    "Temp = df.loc[1]\n",
    "Temp = Temp.to_frame()\n",
    "Temp = Temp.transpose()\n",
    "Temp = Temp.iloc[0:0]\n",
    "Precinct_data = Temp.drop(['GeogName', 'GeoID','Borough'], axis=1)\n",
    "Precinct_data['Precinct'] = 1\n",
    "precinct = pr_to_NTA.loc[0,'Precinct']\n",
    "Temp3 = Precinct_data"
   ]
  },
  {
   "cell_type": "markdown",
   "metadata": {},
   "source": [
    "From NTA to Police district"
   ]
  },
  {
   "cell_type": "code",
   "execution_count": 15,
   "metadata": {},
   "outputs": [
    {
     "name": "stderr",
     "output_type": "stream",
     "text": [
      "C:\\Users\\kia08\\Anaconda3\\lib\\site-packages\\pandas\\core\\frame.py:6211: FutureWarning: Sorting because non-concatenation axis is not aligned. A future version\n",
      "of pandas will change to not sort by default.\n",
      "\n",
      "To accept the future behavior, pass 'sort=False'.\n",
      "\n",
      "To retain the current behavior and silence the warning, pass 'sort=True'.\n",
      "\n",
      "  sort=sort)\n"
     ]
    }
   ],
   "source": [
    "for i in range(1,len(pr_to_NTA)):\n",
    "    NTA = pr_to_NTA.loc[i,'NTAName']\n",
    "    idx = df.loc[df.isin([NTA]).any(axis=1)].index.tolist()\n",
    "    if pr_to_NTA.loc[i,'Precinct'] == precinct:\n",
    "        Temp = Temp.append(df.loc[idx])\n",
    "    else: \n",
    "        Temp = Temp.reset_index(drop = True)\n",
    "        Temp2 = Temp.drop(['GeogName', 'GeoID','Borough'], axis=1)\n",
    "        Temp2 = Temp2.sum(axis = 0, skipna = True)\n",
    "        Temp2 = Temp2.to_frame()\n",
    "        Temp2 = Temp2.transpose()\n",
    "        Temp3 = Temp3.append(Temp2)\n",
    "        Temp3['Precinct'] = precinct\n",
    "        Precinct_data = Precinct_data.append(Temp3)\n",
    "        Temp = Temp.iloc[0:0]\n",
    "        Temp3 = Temp3.iloc[0:0]\n",
    "        Temp = Temp.append(df.loc[idx])\n",
    "        precinct = pr_to_NTA.loc[i,'Precinct']\n",
    "        #df.sum(axis = 0, skipna = True)     "
   ]
  },
  {
   "cell_type": "markdown",
   "metadata": {},
   "source": [
    "Including a sum column"
   ]
  },
  {
   "cell_type": "code",
   "execution_count": 16,
   "metadata": {},
   "outputs": [],
   "source": [
    "Precinct_data = Precinct_data.reset_index(drop = True)\n",
    "Precinct_data\n",
    "Temp_Dataframe=Precinct_data.drop(['Precinct'],axis=1) \n",
    "Precinct_data['Total'] = Temp_Dataframe.sum(axis = 1, skipna = True)\n"
   ]
  },
  {
   "cell_type": "markdown",
   "metadata": {},
   "source": [
    "Calculating percentage"
   ]
  },
  {
   "cell_type": "code",
   "execution_count": 17,
   "metadata": {},
   "outputs": [],
   "source": [
    "Precinct_data_percent = Precinct_data.iloc[0:0]\n",
    "#Precinct_data_percent = Precinct_data_percent.drop(['Total'],axis=1)  \n",
    "for i in range(len(Precinct_data)):\n",
    "    temp = Precinct_data.loc[i,:]/Precinct_data.loc[i,'Total']*100\n",
    "    Precinct_data_percent = Precinct_data_percent.append(temp)"
   ]
  },
  {
   "cell_type": "markdown",
   "metadata": {},
   "source": [
    "Renaming coloumns"
   ]
  },
  {
   "cell_type": "code",
   "execution_count": 18,
   "metadata": {},
   "outputs": [],
   "source": [
    "Precinct_data_percent['Precinct'] = Precinct_data.loc[:,'Precinct']\n",
    "Precinct_data_percent\n",
    "Precinct_data_percent = Precinct_data_percent.drop(['Total'],axis=1)\n",
    "Precinct_data_percent.rename(columns={'Hispanics':'Hispanics_%',\n",
    "                          'White alone':'White_alone_%',\n",
    "                         'Black':'Black_%',\n",
    "                         'American Indian':'American_Indian_%',\n",
    "                         'Asian':'Asian_%',\n",
    "                         'Unknown':'Unknown_%'}, \n",
    "                 inplace=True)\n"
   ]
  },
  {
   "cell_type": "code",
   "execution_count": 19,
   "metadata": {},
   "outputs": [],
   "source": [
    "Precinct_data_percent.to_csv('precinct_data_percent.csv',index=False)"
   ]
  },
  {
   "cell_type": "code",
   "execution_count": null,
   "metadata": {},
   "outputs": [],
   "source": []
  }
 ],
 "metadata": {
  "kernelspec": {
   "display_name": "Python 3",
   "language": "python",
   "name": "python3"
  },
  "language_info": {
   "codemirror_mode": {
    "name": "ipython",
    "version": 3
   },
   "file_extension": ".py",
   "mimetype": "text/x-python",
   "name": "python",
   "nbconvert_exporter": "python",
   "pygments_lexer": "ipython3",
   "version": "3.7.1"
  }
 },
 "nbformat": 4,
 "nbformat_minor": 2
}
