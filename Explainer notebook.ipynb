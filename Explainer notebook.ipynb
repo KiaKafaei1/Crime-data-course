{
 "cells": [
  {
   "cell_type": "markdown",
   "metadata": {},
   "source": [
    "More on the explainer notebook\n",
    "The notebook should contain your analysis and code. Please structure it into the following sections\n",
    "## Motivation.\n",
    "\n",
    "**What is your dataset?**\n",
    "\n",
    "The assignment consists of multiple datasets:\n",
    "1. The shooting dataset\n",
    "2. Demographics dataset\n",
    "3. Economics dataset \n",
    "4. Social datset\n",
    "\n",
    "\n",
    "**Why did you choose this/these particular dataset(s)?**\n",
    "\n",
    "Since criminality and shootings in particular is expected to be caused/correlated by different factors such as the demographics and economics of a district, it would be interesting to present these values and for the user to explore these relationsships themselves. \n",
    "\n",
    "\n",
    "**What was your goal for the end user's experience?**\n",
    "\n",
    "The goal was to let the user explore the number of shootings for the different districts and compare this with different socioeconomical measures for that district. Also to let the user compare different districts.  "
   ]
  },
  {
   "cell_type": "markdown",
   "metadata": {},
   "source": [
    "## Basic stats\n",
    "**What is your dataset?**\n",
    "\n",
    "\n",
    "**Why did you choose this/these particular dataset(s)?**\n",
    "\n",
    "\n",
    "**What was your goal for the end user's experience?**"
   ]
  },
  {
   "cell_type": "markdown",
   "metadata": {},
   "source": [
    "## Data Analysis\n",
    "**Describe your data analysis and explain what you've learned about the dataset. If relevant, talk about your machine-learning.**"
   ]
  },
  {
   "cell_type": "markdown",
   "metadata": {},
   "source": [
    "## Genre \n",
    "**Which genre of data story did you use?** \n",
    "\n",
    "\n",
    "**Which tools did you use from each of the 3 categories of Visual Narrative (Figure 7 in Segal and Heer). Why?** \n",
    "\n",
    "\n",
    "**Which tools did you use from each of the 3 categories of Narrative Structure (Figure 7 in Segal and Heer). Why?**"
   ]
  },
  {
   "cell_type": "markdown",
   "metadata": {},
   "source": [
    "## Visualizations\n",
    "**Explain the visualizations you've chosen.**\n",
    "\n",
    "\n",
    "**Why are they right for the story you want to tell?**"
   ]
  },
  {
   "cell_type": "markdown",
   "metadata": {},
   "source": [
    "## Contributions\n",
    "**Who did what? You should write (just briefly) which group member was the main responsible for which elements of the assignment. (I want you guys to understand every part of the assignment, but usually there is someone who took lead role on certain portions of the work. That's what you should explain). It is not OK simply to write \"All group members contributed equally\".**"
   ]
  },
  {
   "cell_type": "markdown",
   "metadata": {},
   "source": [
    "## References\n",
    "**Make sure that you use references when they're needed and follow academic standards.**"
   ]
  }
 ],
 "metadata": {
  "kernelspec": {
   "display_name": "Python 3",
   "language": "python",
   "name": "python3"
  },
  "language_info": {
   "codemirror_mode": {
    "name": "ipython",
    "version": 3
   },
   "file_extension": ".py",
   "mimetype": "text/x-python",
   "name": "python",
   "nbconvert_exporter": "python",
   "pygments_lexer": "ipython3",
   "version": "3.7.1"
  }
 },
 "nbformat": 4,
 "nbformat_minor": 2
}
