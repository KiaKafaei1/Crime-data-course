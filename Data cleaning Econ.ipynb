{
 "cells": [
  {
   "cell_type": "markdown",
   "metadata": {},
   "source": [
    "# Data cleaning for Econ dataset"
   ]
  },
  {
   "cell_type": "code",
   "execution_count": 2,
   "metadata": {},
   "outputs": [],
   "source": [
    "import pandas as pd\n",
    "import os\n",
    "import numpy as np"
   ]
  },
  {
   "cell_type": "code",
   "execution_count": 3,
   "metadata": {},
   "outputs": [],
   "source": [
    "data = pd.read_csv('data_econ.csv')\n",
    "data = data.drop(['Unnamed: 0','Employed_%','Unemployed_%'],axis=1)\n",
    "df = data\n",
    "#df"
   ]
  },
  {
   "cell_type": "code",
   "execution_count": 4,
   "metadata": {
    "scrolled": true
   },
   "outputs": [
    {
     "data": {
      "text/html": [
       "<div>\n",
       "<style scoped>\n",
       "    .dataframe tbody tr th:only-of-type {\n",
       "        vertical-align: middle;\n",
       "    }\n",
       "\n",
       "    .dataframe tbody tr th {\n",
       "        vertical-align: top;\n",
       "    }\n",
       "\n",
       "    .dataframe thead th {\n",
       "        text-align: right;\n",
       "    }\n",
       "</style>\n",
       "<table border=\"1\" class=\"dataframe\">\n",
       "  <thead>\n",
       "    <tr style=\"text-align: right;\">\n",
       "      <th></th>\n",
       "      <th>Precinct</th>\n",
       "      <th>NTAName</th>\n",
       "    </tr>\n",
       "  </thead>\n",
       "  <tbody>\n",
       "    <tr>\n",
       "      <th>0</th>\n",
       "      <td>1</td>\n",
       "      <td>Battery Park City-Lower Manhattan</td>\n",
       "    </tr>\n",
       "    <tr>\n",
       "      <th>1</th>\n",
       "      <td>1</td>\n",
       "      <td>Chinatown</td>\n",
       "    </tr>\n",
       "    <tr>\n",
       "      <th>2</th>\n",
       "      <td>1</td>\n",
       "      <td>SoHo-TriBeCa-Civic Center-Little Italy</td>\n",
       "    </tr>\n",
       "    <tr>\n",
       "      <th>3</th>\n",
       "      <td>1</td>\n",
       "      <td>West Village</td>\n",
       "    </tr>\n",
       "    <tr>\n",
       "      <th>4</th>\n",
       "      <td>1</td>\n",
       "      <td>park-cemetery-etc-Manhattan</td>\n",
       "    </tr>\n",
       "  </tbody>\n",
       "</table>\n",
       "</div>"
      ],
      "text/plain": [
       "   Precinct                                 NTAName\n",
       "0         1       Battery Park City-Lower Manhattan\n",
       "1         1                               Chinatown\n",
       "2         1  SoHo-TriBeCa-Civic Center-Little Italy\n",
       "3         1                            West Village\n",
       "4         1             park-cemetery-etc-Manhattan"
      ]
     },
     "execution_count": 4,
     "metadata": {},
     "output_type": "execute_result"
    }
   ],
   "source": [
    "pr_to_NTA = pd.read_csv('pr_to_NTA.csv')\n",
    "pr_to_NTA.head()"
   ]
  },
  {
   "cell_type": "markdown",
   "metadata": {},
   "source": [
    "Initialization of variables"
   ]
  },
  {
   "cell_type": "code",
   "execution_count": 5,
   "metadata": {},
   "outputs": [],
   "source": [
    "Temp = df.loc[1]\n",
    "Temp = Temp.to_frame()\n",
    "Temp = Temp.transpose()\n",
    "Temp = Temp.iloc[0:0]\n",
    "Precinct_data = Temp.drop(['GeogName','Borough'], axis=1)\n",
    "Precinct_data['Precinct'] = 1\n",
    "precinct = pr_to_NTA.loc[0,'Precinct']\n",
    "Temp3 = Precinct_data\n",
    "count = 1;"
   ]
  },
  {
   "cell_type": "markdown",
   "metadata": {},
   "source": [
    "From NTA to Police district"
   ]
  },
  {
   "cell_type": "code",
   "execution_count": 6,
   "metadata": {},
   "outputs": [
    {
     "name": "stderr",
     "output_type": "stream",
     "text": [
      "C:\\Users\\kia08\\Anaconda3\\lib\\site-packages\\pandas\\core\\frame.py:6211: FutureWarning: Sorting because non-concatenation axis is not aligned. A future version\n",
      "of pandas will change to not sort by default.\n",
      "\n",
      "To accept the future behavior, pass 'sort=False'.\n",
      "\n",
      "To retain the current behavior and silence the warning, pass 'sort=True'.\n",
      "\n",
      "  sort=sort)\n"
     ]
    }
   ],
   "source": [
    "for i in range(1,len(pr_to_NTA)):\n",
    "    NTA = pr_to_NTA.loc[i,'NTAName']\n",
    "    idx = df.loc[df.isin([NTA]).any(axis=1)].index.tolist()\n",
    "    if pr_to_NTA.loc[i,'Precinct'] == precinct:\n",
    "        Temp = Temp.append(df.loc[idx])\n",
    "        count = count + 1;\n",
    "        #print(count)\n",
    "    else: \n",
    "        Temp = Temp.reset_index(drop = True)\n",
    "        Temp2 = Temp.drop(['GeogName','Borough'], axis=1)\n",
    "        Temp2 = Temp2.sum(axis = 0, skipna = True)\n",
    "        Temp2 = Temp2.to_frame()\n",
    "        Temp2 = Temp2.transpose()\n",
    "        Temp3 = Temp3.append(Temp2)\n",
    "        Temp3['Precinct'] = precinct\n",
    "        #print(Temp3['Median_income'])\n",
    "        Temp3['Median_income'] = Temp3.loc[0,'Median_income']/count\n",
    "        Precinct_data = Precinct_data.append(Temp3)\n",
    "        Temp = Temp.iloc[0:0]\n",
    "        Temp3 = Temp3.iloc[0:0]\n",
    "        Temp = Temp.append(df.loc[idx])\n",
    "        precinct = pr_to_NTA.loc[i,'Precinct']\n",
    "        count = 1\n",
    "        #df.sum(axis = 0, skipna = True)"
   ]
  },
  {
   "cell_type": "code",
   "execution_count": 10,
   "metadata": {},
   "outputs": [],
   "source": [
    "\n",
    "Precinct_data = Precinct_data.reset_index(drop = True)\n",
    "#Precinct_data"
   ]
  },
  {
   "cell_type": "code",
   "execution_count": 11,
   "metadata": {},
   "outputs": [],
   "source": [
    "Precinct_data.to_csv('econ_precinct_data.csv',index=False)"
   ]
  },
  {
   "cell_type": "code",
   "execution_count": null,
   "metadata": {},
   "outputs": [],
   "source": []
  }
 ],
 "metadata": {
  "kernelspec": {
   "display_name": "Python 3",
   "language": "python",
   "name": "python3"
  },
  "language_info": {
   "codemirror_mode": {
    "name": "ipython",
    "version": 3
   },
   "file_extension": ".py",
   "mimetype": "text/x-python",
   "name": "python",
   "nbconvert_exporter": "python",
   "pygments_lexer": "ipython3",
   "version": "3.7.1"
  }
 },
 "nbformat": 4,
 "nbformat_minor": 2
}
